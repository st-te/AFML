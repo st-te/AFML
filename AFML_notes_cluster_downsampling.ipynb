{
 "cells": [
  {
   "cell_type": "markdown",
   "metadata": {},
   "source": [
    "### Cluster-based downsampling: Notes"
   ]
  },
  {
   "cell_type": "markdown",
   "metadata": {},
   "source": [
    "#### Mean shift clustering"
   ]
  },
  {
   "cell_type": "markdown",
   "metadata": {},
   "source": [
    "**Mean Shift Clustering:**\n",
    "\n",
    "**Idea:** Mean Shift identifies clusters by iteratively shifting each data point towards the mode (peak) of the data's density distribution.\n",
    "\n",
    "**Pros:** It doesn't require specifying the number of clusters in advance and can discover clusters of arbitrary shapes.\n",
    "\n",
    "**Cons:** It can be computationally intensive, and the algorithm's performance depends on the choice of bandwidth parameter."
   ]
  },
  {
   "cell_type": "markdown",
   "metadata": {},
   "source": [
    "**Under mean shift clustering:**\n",
    "\n",
    "bandwidth=0.00000475 found to be suitable for THIS instance of AFM data\n",
    "\n",
    "bandwidth=0.000005 eradicated level2 terrace in sample data\n",
    "\n",
    "bandwidth<0.00000475 led to monatomic-width pseudolevels between terraces"
   ]
  },
  {
   "cell_type": "markdown",
   "metadata": {},
   "source": [
    "#### DBScan clustering"
   ]
  },
  {
   "cell_type": "markdown",
   "metadata": {},
   "source": [
    "DBSCAN (Density-Based Spatial Clustering of Applications with Noise):\n",
    "\n",
    "**Idea:** DBSCAN groups together data points that are closely packed and labels outliers as noise. It doesn't require specifying the number of clusters in advance.\n",
    "\n",
    "**Pros:** It's robust to varying cluster shapes and sizes and can identify noise points.\n",
    "\n",
    "**Cons:** It might not work well when clusters have varying densities.\n",
    "\n",
    "**Overview:** DBSCAN is a density-based clustering algorithm that groups together points that are closely packed and labels outliers as noise. It's effective at identifying dense regions and separating them from sparse regions.\n",
    "\n",
    "**Advantages:** DBSCAN can retain complex structures, including curved terraces, by focusing on the density of points. It automatically identifies clusters of varying sizes and shapes.\n",
    "\n",
    "**How to Use:** You can use DBSCAN to cluster your point cloud and then select representative points from each cluster as your downsampled points. Adjust the epsilon and min_samples parameters to control the clustering sensitivity."
   ]
  },
  {
   "cell_type": "markdown",
   "metadata": {},
   "source": [
    "#### OPTICS clustering"
   ]
  },
  {
   "cell_type": "markdown",
   "metadata": {},
   "source": [
    "OPTICS (Ordering Points To Identify the Clustering Structure):\n",
    "\n",
    "**Overview:** OPTICS is an extension of DBSCAN that produces a hierarchical clustering structure. It orders data points based on their reachability distance.\n",
    "\n",
    "**Advantages:** OPTICS can capture clusters of varying densities and sizes, making it suitable for retaining complex structures. It provides a hierarchy of clusters.\n",
    "\n",
    "**How to Use:** Apply OPTICS to your point cloud and select representative points from different levels of the hierarchy. Adjust the epsilon and other parameters to control the results."
   ]
  },
  {
   "cell_type": "markdown",
   "metadata": {},
   "source": [
    "**OPTICS (Ordering Points To Identify the Clustering Structure)** is a density-based clustering algorithm that identifies clusters of data points in a dataset by capturing the hierarchical structure of the data. It's an extension of the well-known DBSCAN (Density-Based Spatial Clustering of Applications with Noise) algorithm. Here's a step-by-step explanation of how OPTICS works:\n",
    "\n",
    "**Core Distance and Reachability Distance:**\n",
    "\n",
    "OPTICS starts by computing two important distances for each data point:\n",
    "\n",
    "**Core Distance (core_dist):** This is the minimum distance required to consider a point as the core point of a cluster. It's defined by the min_samples parameter.\n",
    "\n",
    "**Reachability Distance (reach_dist):** This is the distance from a point to its nearest core point. It measures how easily a point can be reached from a core point.\n",
    "\n",
    "**Building the Reachability Plot:**\n",
    "\n",
    "OPTICS constructs a reachability plot by comparing each point's reachability distance to the core distance. The reachability plot is a sorted list of points based on their reachability distances.\n",
    "\n",
    "**Extracting Clusters and Hierarchical Structure:** \n",
    "\n",
    "OPTICS extracts clusters and captures the hierarchical structure of the data from the reachability plot. It does this by examining local minima in the plot.\n",
    "\n",
    "When it encounters a point with a higher reachability distance than the previous point, it marks a potential cluster boundary.\n",
    "\n",
    "When it encounters a point with a lower reachability distance than the previous point, it signifies the start of a new cluster.\n",
    "\n",
    "The hierarchy of clusters is captured based on the transitions in reachability distances.\n",
    "\n",
    "**Hierarchical Cluster Ordering:** \n",
    "\n",
    "OPTICS produces a hierarchical ordering of clusters, where clusters at different levels of the hierarchy represent different granularities of grouping.\n",
    "\n",
    "Clusters at the top of the hierarchy are larger, encompassing more points, while clusters lower in the hierarchy are smaller and more specific.\n",
    "\n",
    "**Cluster Extraction:**\n",
    "\n",
    "After constructing the hierarchy, you can extract clusters at different levels based on your specific needs. The xi parameter controls the level of granularity in cluster extraction.\n",
    "\n",
    "Lower values of xi result in more detailed clusters, while higher values simplify the hierarchy by merging clusters.\n",
    "\n",
    "**Noise and Undefined Points:**\n",
    "\n",
    "Points that do not belong to any cluster or do not reach the min_samples threshold are considered noise or undefined.\n",
    "\n",
    "**Visualization and Analysis:**\n",
    "\n",
    "The hierarchical structure of OPTICS allows for the exploration of clusters at different levels, which can provide insights into the data's underlying structure.\n",
    "\n",
    "**In summary**:\n",
    "\n",
    "OPTICS is a density-based clustering algorithm that captures the hierarchical structure of data by computing reachability distances and identifying transitions in the reachability plot. It allows for the identification of clusters of varying sizes and shapes, making it suitable for datasets with complex structures. The hierarchical representation provides flexibility in analyzing data at different levels of granularity."
   ]
  },
  {
   "cell_type": "markdown",
   "metadata": {},
   "source": [
    "**In OPTICS (Ordering Points To Identify the Clustering Structure)**, several parameters can be tuned to control the behavior of the algorithm and adapt it to the characteristics of your data. The primary parameter in OPTICS is the min_samples parameter. Here's an explanation of the main parameters:\n",
    "\n",
    "_**min_samples:**_\n",
    "\n",
    "**Description:** This parameter defines the minimum number of samples (points) required to form a dense region or cluster.\n",
    "\n",
    "**Impact:** A higher min_samples value will require a denser region to be recognized as a cluster, potentially resulting in fewer and larger clusters. Conversely, a lower value can lead to more but smaller clusters.\n",
    "\n",
    "**Tuning:** You can experiment with different values for min_samples to control the sensitivity of cluster identification. Smaller values make the algorithm more sensitive to small, dense regions, while larger values require larger, denser regions to be recognized as clusters.\n",
    "\n",
    "_**xi (Xi):**_\n",
    "\n",
    "**Description:** The xi parameter influences the steepness of the cluster hierarchy produced by OPTICS.\n",
    "\n",
    "**Impact:** Higher values of xi result in a flatter hierarchy, with fewer levels of clusters. Lower values create a more hierarchical structure with more levels.\n",
    "\n",
    "**Tuning:** Adjust xi to control the level of granularity in the hierarchy. Larger values simplify the hierarchy, while smaller values provide more detail.\n",
    "\n",
    "**min_cluster_size:**\n",
    "\n",
    "**Description:** This parameter specifies the minimum number of samples required for a cluster to be recognized.\n",
    "\n",
    "**Impact:** Clusters with fewer than min_cluster_size samples will not be labeled as clusters.\n",
    "\n",
    "**Tuning:** You can set min_cluster_size to control the minimum size of clusters you want to identify. Smaller values will result in the identification of smaller clusters.\n",
    "\n",
    "_**metric:**_\n",
    "\n",
    "**Description:** The metric parameter defines the distance metric used to measure the similarity or reachability between points.\n",
    "Impact: The choice of distance metric can affect how points are connected and clustered.\n",
    "\n",
    "**Tuning:** Select an appropriate distance metric based on the characteristics of your data. Common choices include Euclidean distance (euclidean), Manhattan distance (manhattan), and others depending on your data's nature.\n",
    "\n",
    "_**cluster_method:**_\n",
    "\n",
    "**Description:** This parameter determines the method used to extract clusters from the OPTICS result. Common options include \"xi,\" \"leaf,\" or \"dbscan.\"\n",
    "\n",
    "**Impact:** The choice of cluster_method can affect how clusters are defined and represented in the output.\n",
    "\n",
    "**Tuning:** Depending on your analysis goals, you can choose a suitable cluster extraction method. \"xi\" is often used for a simplified view of clusters, while \"dbscan\" may provide more detailed cluster definitions."
   ]
  },
  {
   "cell_type": "markdown",
   "metadata": {},
   "source": [
    "#### HDBScan"
   ]
  },
  {
   "cell_type": "markdown",
   "metadata": {},
   "source": [
    "**HDBSCAN (Hierarchical Density-Based Spatial Clustering of Applications with Noise):**\n",
    "\n",
    "**Advantages:**\n",
    "\n",
    "**Hierarchical Clustering:** HDBSCAN, like OPTICS, provides a hierarchical view of the data's clustering structure.\n",
    "\n",
    "**Robustness:** It is robust to varying cluster densities and noisy data points.\n",
    "\n",
    "**Automated Parameter Selection:** HDBSCAN can automatically select the appropriate value of min_samples, reducing the need for parameter tuning.\n",
    "\n",
    "**Limitations:**\n",
    "\n",
    "**Computational Complexity:** HDBSCAN can also be computationally intensive, especially for large datasets.\n"
   ]
  },
  {
   "cell_type": "markdown",
   "metadata": {},
   "source": [
    "#### Choosing Between OPTICS, DBSCAN, and HDBSCAN:"
   ]
  },
  {
   "cell_type": "markdown",
   "metadata": {},
   "source": [
    "**OPTICS and HDBSCAN** share the advantage of providing a hierarchical view of clusters, which can be valuable when analyzing complex structures like atomic terraces.\n",
    "\n",
    "**HDBSCAN** offers the additional benefit of automated parameter selection for min_samples, which can simplify the clustering process.\n",
    "\n",
    "Consider the size of your dataset and computational resources. Both OPTICS and HDBSCAN can be computationally intensive, so it's important to assess whether your dataset can be processed within reasonable time constraints.\n",
    "\n",
    "**Experimentation:** Since the suitability of a clustering algorithm depends on the specific characteristics of your data, it's often advisable to experiment with both OPTICS and HDBSCAN, as well as potentially DBSCAN, to see which one provides the best results in terms of capturing the shape and structure of your atomic force micrographs."
   ]
  }
 ],
 "metadata": {
  "language_info": {
   "name": "python"
  },
  "orig_nbformat": 4
 },
 "nbformat": 4,
 "nbformat_minor": 2
}
