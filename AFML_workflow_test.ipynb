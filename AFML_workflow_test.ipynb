{
 "cells": [
  {
   "cell_type": "markdown",
   "metadata": {},
   "source": [
    "#### AFML - Sample simulation/AFM tests"
   ]
  },
  {
   "cell_type": "code",
   "execution_count": 6,
   "metadata": {},
   "outputs": [],
   "source": [
    "import numpy as np\n",
    "from pathlib import Path\n",
    "import matplotlib.pyplot as plt\n",
    "from sklearn.cluster import DBSCAN, MeanShift\n",
    "from scipy.interpolate import griddata\n",
    "\n",
    "from ripser import ripser\n",
    "from persim import plot_diagrams\n",
    "\n",
    "from AFML_functions import read_XYZ, cut_out, plot_facet_2d, plot_facet_3d\n",
    "from AFML_functions import read_AFM_XYZ, mean_shift, down_shift, plot_afm_2d, plot_facet_3d, unique_z, interpolate_downsample"
   ]
  },
  {
   "cell_type": "markdown",
   "metadata": {},
   "source": [
    "Looking to compare/contrast systems with different, distinct terrace shapes - LTA, l-cys, Para etc."
   ]
  },
  {
   "cell_type": "markdown",
   "metadata": {},
   "source": [
    "#### LTA (0-20 sim)"
   ]
  },
  {
   "cell_type": "code",
   "execution_count": null,
   "metadata": {},
   "outputs": [],
   "source": [
    "lta_sim = read_XYZ('/Users/user/Documents/PhD/AFML/test_sims/LTA_0-20/XYZ_files/LTA_1_ovito_CGvisualiser.XYZ')\n",
    "lta_afm = None"
   ]
  },
  {
   "cell_type": "markdown",
   "metadata": {},
   "source": [
    "#### Paracetamol"
   ]
  },
  {
   "cell_type": "code",
   "execution_count": 3,
   "metadata": {},
   "outputs": [],
   "source": [
    "par_sim = read_XYZ('/Users/user/Documents/PhD/AFML/test_sims/PAR_ETH_100/20230809_114041/XYZ_files/PAR_ETH_100_1_ovito_CGvisualiser_unscaled.XYZ')\n",
    "par_afm = None"
   ]
  }
 ],
 "metadata": {
  "kernelspec": {
   "display_name": "afml",
   "language": "python",
   "name": "python3"
  },
  "language_info": {
   "codemirror_mode": {
    "name": "ipython",
    "version": 3
   },
   "file_extension": ".py",
   "mimetype": "text/x-python",
   "name": "python",
   "nbconvert_exporter": "python",
   "pygments_lexer": "ipython3",
   "version": "3.11.4"
  },
  "orig_nbformat": 4
 },
 "nbformat": 4,
 "nbformat_minor": 2
}
