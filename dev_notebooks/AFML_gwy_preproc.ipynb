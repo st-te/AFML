{
 "cells": [
  {
   "cell_type": "markdown",
   "metadata": {},
   "source": [
    "## Gwy processing pipeline"
   ]
  },
  {
   "cell_type": "code",
   "execution_count": 62,
   "metadata": {},
   "outputs": [],
   "source": [
    "import sys\n",
    "sys.path.append(r\"C:/Program Files (x86)/Gwyddion/bin\")\n",
    "import gwy, glob, random"
   ]
  },
  {
   "cell_type": "code",
   "execution_count": 63,
   "metadata": {},
   "outputs": [],
   "source": [
    "# parameter set-up\n",
    "settings = gwy.gwy_app_settings_get()"
   ]
  },
  {
   "cell_type": "code",
   "execution_count": 64,
   "metadata": {},
   "outputs": [],
   "source": [
    "# load files in folder + extract basic data from a channel\n",
    "\n",
    "def preproc(folder):\n",
    "    for filename in glob.glob(folder):\n",
    "        print(filename)\n",
    "        container = gwy.gwy_file_load(filename, gwy.RUN_NONINTERACTIVE)\n",
    "        gwy.gwy_app_data_browser_add(container)\n",
    "\n",
    "        # find height channel \n",
    "        id1 = gwy.gwy_app_data_browser_find_data_by_title(container, 'Height')\n",
    "\n",
    "        #print(gwy.gwy_app_data_browser_get_data_ids(container))\n",
    "\n",
    "        # select/load\n",
    "        if len(id1) == 1:\n",
    "            h = id1[0]\n",
    "            gwy.gwy_app_data_browser_select_data_field(container, h)\n",
    "\n",
    "            data_field = container[gwy.gwy_app_get_data_key_for_id(h)]\n",
    "            \n",
    "            '''# image correction\n",
    "            # subtract polynomial background\n",
    "            coeffs = data_field.fit_polynom(3, 3)\n",
    "            data_field.subtract_polynom(3, 3, coeffs)\n",
    "            data_field.data_changed()\n",
    "\n",
    "            # line and scar correction (run module functions)\n",
    "            gwy.gwy_process_func_run(\"line_correct_median\", container, gwy.RUN_IMMEDIATE)\n",
    "            gwy.gwy_process_func_run(\"scars_remove\", container, gwy.RUN_IMMEDIATE)\n",
    "            gwy.gwy_process_func_run(\"fix_zero\", container, gwy.RUN_IMMEDIATE)\n",
    "\n",
    "            # gradient\n",
    "            container['/%d/base/palette' % h] = 'Gwyddion.net' '''\n",
    "\n",
    "\n",
    "            # crops\n",
    "            xres, yres = data_field.get_xres(), data_field.get_yres()\n",
    "            print(xres, yres)\n",
    "\n",
    "            xrand = random.randrange(0, (xres-151))\n",
    "            yrand = random.randrange(0, (xres-151))\n",
    "            print(xrand,yrand)\n",
    "            \n",
    "        else:\n",
    "            sys.stderr.write('Expected one Height channel in %s but found %u.\\n'%(filename, len(ids)))\n",
    "\n",
    "        # crop and save \n",
    "\n",
    "        data_field.resize(xrand, yrand, xrand+150, yrand+150)\n",
    "\n",
    "        # confirming we have cropped 150 x 150\n",
    "        xres, yres = data_field.get_xres(), data_field.get_yres()\n",
    "        print(xres, yres)\n",
    "        \n",
    "        gwy.gwy_app_data_browser_get_current(gwy.APP_DATA_FIELD)\n",
    "\n",
    "        gwy.gwy_file_save(container, 'c:\\Users\\m46654st\\Desktop\\sample_preproc_test\\dot_gwy_cuts\\sample_preproc_test_5.gwy', gwy.RUN_NONINTERACTIVE)\n",
    "\n",
    "        gwy.gwy_app_data_browser_remove(container)"
   ]
  },
  {
   "cell_type": "code",
   "execution_count": 65,
   "metadata": {},
   "outputs": [
    {
     "name": "stdout",
     "output_type": "stream",
     "text": [
      "c:\\Users\\m46654st\\Desktop\\sample_preproc_test\\save-2011.11.30-14.11.45.jpk\n",
      "(512, 512)\n",
      "(41, 192)\n",
      "(150, 150)\n"
     ]
    }
   ],
   "source": [
    "preproc('c:\\Users\\m46654st\\Desktop\\sample_preproc_test\\*.jpk')"
   ]
  }
 ],
 "metadata": {
  "kernelspec": {
   "display_name": "Python 3",
   "language": "python",
   "name": "python3"
  },
  "language_info": {
   "codemirror_mode": {
    "name": "ipython",
    "version": 2
   },
   "file_extension": ".py",
   "mimetype": "text/x-python",
   "name": "python",
   "nbconvert_exporter": "python",
   "pygments_lexer": "ipython2",
   "version": "2.7.18"
  },
  "orig_nbformat": 4
 },
 "nbformat": 4,
 "nbformat_minor": 2
}
