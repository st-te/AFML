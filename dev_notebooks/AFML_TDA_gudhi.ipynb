{
 "cells": [
  {
   "cell_type": "markdown",
   "metadata": {},
   "source": [
    "#### AFML - GUDHI TDA library test"
   ]
  },
  {
   "cell_type": "code",
   "execution_count": 1,
   "metadata": {},
   "outputs": [],
   "source": [
    "import numpy as np\n",
    "from pathlib import Path\n",
    "import matplotlib.pyplot as plt\n",
    "import gudhi as gd\n",
    "%matplotlib inline\n",
    "\n",
    "import ripser\n",
    "from persim import plot_diagrams\n",
    "\n",
    "from AFML_functions import read_AFM_XYZ, mean_shift, down_shift, plot_CG_2d, plot_CG_3d, unique_z, interpolate_downsample, smooth_terraces, read_XYZ, cut_out, plot_PC_2d, plot_PC_3d, extract_dimensions"
   ]
  },
  {
   "cell_type": "code",
   "execution_count": 2,
   "metadata": {},
   "outputs": [
    {
     "ename": "NameError",
     "evalue": "name 'plot_afm_2d' is not defined",
     "output_type": "error",
     "traceback": [
      "\u001b[0;31m---------------------------------------------------------------------------\u001b[0m",
      "\u001b[0;31mNameError\u001b[0m                                 Traceback (most recent call last)",
      "\u001b[1;32m/Users/user/Documents/PhD/AFML/AFML/AFML_TDA_gudhi.ipynb Cell 3\u001b[0m line \u001b[0;36m7\n\u001b[1;32m      <a href='vscode-notebook-cell:/Users/user/Documents/PhD/AFML/AFML/AFML_TDA_gudhi.ipynb#W2sZmlsZQ%3D%3D?line=3'>4</a>\u001b[0m smooth_afm \u001b[39m=\u001b[39m smooth_terraces(rounded_afm, \u001b[39m0.1\u001b[39m)\n\u001b[1;32m      <a href='vscode-notebook-cell:/Users/user/Documents/PhD/AFML/AFML/AFML_TDA_gudhi.ipynb#W2sZmlsZQ%3D%3D?line=4'>5</a>\u001b[0m nearest_36 \u001b[39m=\u001b[39m interpolate_downsample(smooth_afm, \u001b[39m36\u001b[39m, \u001b[39m'\u001b[39m\u001b[39mnearest\u001b[39m\u001b[39m'\u001b[39m)\n\u001b[0;32m----> <a href='vscode-notebook-cell:/Users/user/Documents/PhD/AFML/AFML/AFML_TDA_gudhi.ipynb#W2sZmlsZQ%3D%3D?line=6'>7</a>\u001b[0m plot_afm_2d(nearest_36)\n\u001b[1;32m      <a href='vscode-notebook-cell:/Users/user/Documents/PhD/AFML/AFML/AFML_TDA_gudhi.ipynb#W2sZmlsZQ%3D%3D?line=7'>8</a>\u001b[0m plot_afm_3d(nearest_36)\n",
      "\u001b[0;31mNameError\u001b[0m: name 'plot_afm_2d' is not defined"
     ]
    }
   ],
   "source": [
    "afm = read_AFM_XYZ('/Users/user/Documents/PhD/AFML/AFML/sample_preproc_data/terrace_sample/save-2011.11.30-14.25.48_terrace_200.xyz')\n",
    "#afm = read_AFM_XYZ('/Users/user/Documents/PhD/AFML/AFML/sample_preproc_data/terrace_sample/save-2011.11.30-14.25.48_terrace_IDEAL.xyz')\n",
    "rounded_afm = mean_shift(afm, bandwidth=0.00000475)\n",
    "smooth_afm = smooth_terraces(rounded_afm, 0.1)\n",
    "nearest_36 = interpolate_downsample(smooth_afm, 36, 'nearest')\n",
    "\n",
    "plot_PC_2d(nearest_36)\n",
    "plot_PC_3d(nearest_36)"
   ]
  },
  {
   "cell_type": "code",
   "execution_count": null,
   "metadata": {},
   "outputs": [
    {
     "name": "stdout",
     "output_type": "stream",
     "text": [
      "Max X: 0.0012148134012777952\n",
      "Min X: 3.109590900375666e-06\n",
      "Max Y: 0.007474054010521392\n",
      "Min Y: 0.005413117379197596\n",
      "Max Z: 3.703497693922487e-05\n",
      "Min Z: 9.290414944757932e-06\n"
     ]
    }
   ],
   "source": [
    "extract_dimensions(nearest_36)"
   ]
  },
  {
   "cell_type": "markdown",
   "metadata": {},
   "source": [
    "**Quick TDA calculaton with Ripser**"
   ]
  },
  {
   "cell_type": "code",
   "execution_count": null,
   "metadata": {},
   "outputs": [
    {
     "data": {
      "image/png": "[encoded data removed]",
      "text/plain": [
       "<Figure size 400x400 with 2 Axes>"
      ]
     },
     "metadata": {},
     "output_type": "display_data"
    }
   ],
   "source": [
    "dgms = ripser.ripser(nearest_36)['dgms']\n",
    "\n",
    "plot_diagrams(dgms, plot_only=[0], ax=plt.subplot(121))\n",
    "plot_diagrams(dgms, plot_only=[1], ax=plt.subplot(122))"
   ]
  },
  {
   "cell_type": "markdown",
   "metadata": {},
   "source": [
    "#### TDA test with Gudhi - VR and alpha complexes, persistence diagrams"
   ]
  },
  {
   "cell_type": "markdown",
   "metadata": {},
   "source": [
    "Testing multiple max_edge_length values in relation to simplex tree computation"
   ]
  },
  {
   "cell_type": "code",
   "execution_count": null,
   "metadata": {},
   "outputs": [],
   "source": [
    "skeleton0001 = gd.RipsComplex(points = nearest_36, max_edge_length = 0.0001)\n",
    "skeleton001 = gd.RipsComplex(points = nearest_36, max_edge_length = 0.001)\n",
    "skeleton01 = gd.RipsComplex(points = nearest_36, max_edge_length = 0.01)\n",
    "skeleton1 = gd.RipsComplex(points = nearest_36, max_edge_length = 0.1)"
   ]
  },
  {
   "cell_type": "markdown",
   "metadata": {},
   "source": [
    "**1D w/ max_edge_length = 0.0001**"
   ]
  },
  {
   "cell_type": "code",
   "execution_count": null,
   "metadata": {},
   "outputs": [],
   "source": [
    "Rips_simplex_tree_0001_1d = skeleton0001.create_simplex_tree(max_dimension=1)"
   ]
  },
  {
   "cell_type": "code",
   "execution_count": null,
   "metadata": {},
   "outputs": [
    {
     "name": "stdout",
     "output_type": "stream",
     "text": [
      "dim: 1\n",
      "vert: 1296\n",
      "simp: 9870\n"
     ]
    }
   ],
   "source": [
    "st_0001_1d_dim = Rips_simplex_tree_0001_1d.dimension()\n",
    "st_0001_1d_vert = Rips_simplex_tree_0001_1d.num_vertices()\n",
    "st_0001_1d_simp = Rips_simplex_tree_0001_1d.num_simplices()\n",
    "\n",
    "print(\"dim: \" + str(st_0001_1d_dim) + \"\\nvert: \" + str(st_0001_1d_vert) + \"\\nsimp: \" + str(st_0001_1d_simp))"
   ]
  },
  {
   "cell_type": "code",
   "execution_count": null,
   "metadata": {},
   "outputs": [
    {
     "name": "stdout",
     "output_type": "stream",
     "text": [
      "(0, (0.0, inf))\n",
      "(0, (0.0, 5.8883903752108765e-05))\n",
      "(0, (0.0, 5.8883903752108765e-05))\n",
      "(0, (0.0, 5.8883903752108765e-05))\n",
      "(0, (0.0, 5.8883903752108765e-05))\n"
     ]
    }
   ],
   "source": [
    "barcode_0001_1d = Rips_simplex_tree_0001_1d.persistence()\n",
    "\n",
    "for i in range(5):\n",
    "    print(barcode_0001_1d[i])\n",
    "\n",
    "#gd.plot_persistence_diagram(barcode_0001_1d)"
   ]
  },
  {
   "cell_type": "markdown",
   "metadata": {},
   "source": [
    "**2D w/ max_edge_length = 0.0001**"
   ]
  },
  {
   "cell_type": "code",
   "execution_count": null,
   "metadata": {},
   "outputs": [],
   "source": [
    "Rips_simplex_tree_0001_2d = skeleton0001.create_simplex_tree(max_dimension=2)"
   ]
  },
  {
   "cell_type": "code",
   "execution_count": null,
   "metadata": {},
   "outputs": [
    {
     "name": "stdout",
     "output_type": "stream",
     "text": [
      "dim: 2\n",
      "vert: 1296\n",
      "simp: 27894\n"
     ]
    }
   ],
   "source": [
    "st_0001_2d_dim = Rips_simplex_tree_0001_2d.dimension()\n",
    "st_0001_2d_vert = Rips_simplex_tree_0001_2d.num_vertices()\n",
    "st_0001_2d_simp = Rips_simplex_tree_0001_2d.num_simplices()\n",
    "\n",
    "print(\"dim: \" + str(st_0001_2d_dim) + \"\\nvert: \" + str(st_0001_2d_vert) + \"\\nsimp: \" + str(st_0001_2d_simp))"
   ]
  },
  {
   "cell_type": "markdown",
   "metadata": {},
   "source": [
    "**1D w/ max_edge_length = 0.001**"
   ]
  },
  {
   "cell_type": "code",
   "execution_count": null,
   "metadata": {},
   "outputs": [],
   "source": [
    "Rips_simplex_tree_001_1d = skeleton001.create_simplex_tree(max_dimension=1)"
   ]
  },
  {
   "cell_type": "code",
   "execution_count": null,
   "metadata": {},
   "outputs": [
    {
     "name": "stdout",
     "output_type": "stream",
     "text": [
      "dim: 1\n",
      "vert: 1296\n",
      "simp: 517619\n"
     ]
    }
   ],
   "source": [
    "st_001_1d_dim = Rips_simplex_tree_001_1d.dimension()\n",
    "st_001_1d_vert = Rips_simplex_tree_001_1d.num_vertices()\n",
    "st_001_1d_simp = Rips_simplex_tree_001_1d.num_simplices()\n",
    "\n",
    "print(\"dim: \" + str(st_001_1d_dim) + \"\\nvert: \" + str(st_001_1d_vert) + \"\\nsimp: \" + str(st_001_1d_simp))"
   ]
  },
  {
   "cell_type": "markdown",
   "metadata": {},
   "source": [
    "**2D w/ max_edge_length = 0.001**"
   ]
  },
  {
   "cell_type": "code",
   "execution_count": null,
   "metadata": {},
   "outputs": [],
   "source": [
    "Rips_simplex_tree_001_2d = skeleton001.create_simplex_tree(max_dimension=2)"
   ]
  },
  {
   "cell_type": "code",
   "execution_count": null,
   "metadata": {},
   "outputs": [
    {
     "name": "stdout",
     "output_type": "stream",
     "text": [
      "dim: 2\n",
      "vert: 1296\n",
      "simp: 114022159\n"
     ]
    }
   ],
   "source": [
    "st_001_2d_dim = Rips_simplex_tree_001_2d.dimension()\n",
    "st_001_2d_vert = Rips_simplex_tree_001_2d.num_vertices()\n",
    "st_001_2d_simp = Rips_simplex_tree_001_2d.num_simplices()\n",
    "\n",
    "print(\"dim: \" + str(st_001_2d_dim) + \"\\nvert: \" + str(st_001_2d_vert) + \"\\nsimp: \" + str(st_001_2d_simp))"
   ]
  },
  {
   "cell_type": "markdown",
   "metadata": {},
   "source": [
    "**1D w/ max_edge_length = 0.01**"
   ]
  },
  {
   "cell_type": "code",
   "execution_count": null,
   "metadata": {},
   "outputs": [],
   "source": [
    "Rips_simplex_tree_01_1d = skeleton01.create_simplex_tree(max_dimension=1)"
   ]
  },
  {
   "cell_type": "code",
   "execution_count": null,
   "metadata": {},
   "outputs": [
    {
     "name": "stdout",
     "output_type": "stream",
     "text": [
      "dim: 1\n",
      "vert: 1296\n",
      "simp: 840456\n"
     ]
    }
   ],
   "source": [
    "st_01_1d_dim = Rips_simplex_tree_01_1d.dimension()\n",
    "st_01_1d_vert = Rips_simplex_tree_01_1d.num_vertices()\n",
    "st_01_1d_simp = Rips_simplex_tree_01_1d.num_simplices()\n",
    "\n",
    "print(\"dim: \" + str(st_01_1d_dim) + \"\\nvert: \" + str(st_01_1d_vert) + \"\\nsimp: \" + str(st_01_1d_simp))"
   ]
  },
  {
   "cell_type": "markdown",
   "metadata": {},
   "source": [
    "**2D w/ max_edge_length = 0.01**"
   ]
  },
  {
   "cell_type": "code",
   "execution_count": null,
   "metadata": {},
   "outputs": [],
   "source": [
    "Rips_simplex_tree_01_2d = skeleton01.create_simplex_tree(max_dimension=2)"
   ]
  },
  {
   "cell_type": "code",
   "execution_count": null,
   "metadata": {},
   "outputs": [
    {
     "name": "stdout",
     "output_type": "stream",
     "text": [
      "dim: 2\n",
      "vert: 1296\n",
      "simp: 362798136\n"
     ]
    }
   ],
   "source": [
    "st_01_2d_dim = Rips_simplex_tree_01_2d.dimension()\n",
    "st_01_2d_vert = Rips_simplex_tree_01_2d.num_vertices()\n",
    "st_01_2d_simp = Rips_simplex_tree_01_2d.num_simplices()\n",
    "\n",
    "print(\"dim: \" + str(st_01_2d_dim) + \"\\nvert: \" + str(st_01_2d_vert) + \"\\nsimp: \" + str(st_01_2d_simp))"
   ]
  },
  {
   "cell_type": "markdown",
   "metadata": {},
   "source": [
    "**1D w/ max_edge_length = 0.1**"
   ]
  },
  {
   "cell_type": "code",
   "execution_count": null,
   "metadata": {},
   "outputs": [],
   "source": [
    "Rips_simplex_tree_1_1d = skeleton1.create_simplex_tree(max_dimension=1)"
   ]
  },
  {
   "cell_type": "code",
   "execution_count": null,
   "metadata": {},
   "outputs": [
    {
     "name": "stdout",
     "output_type": "stream",
     "text": [
      "dim: 1\n",
      "vert: 1296\n",
      "simp: 840456\n"
     ]
    }
   ],
   "source": [
    "st_1_1d_dim = Rips_simplex_tree_1_1d.dimension()\n",
    "st_1_1d_vert = Rips_simplex_tree_1_1d.num_vertices()\n",
    "st_1_1d_simp = Rips_simplex_tree_1_1d.num_simplices()\n",
    "\n",
    "print(\"dim: \" + str(st_1_1d_dim) + \"\\nvert: \" + str(st_1_1d_vert) + \"\\nsimp: \" + str(st_1_1d_simp))"
   ]
  },
  {
   "cell_type": "markdown",
   "metadata": {},
   "source": [
    "**2D w/ max_edge_length = 0.1**"
   ]
  },
  {
   "cell_type": "code",
   "execution_count": null,
   "metadata": {},
   "outputs": [],
   "source": [
    "Rips_simplex_tree_1_2d = skeleton1.create_simplex_tree(max_dimension=2)"
   ]
  },
  {
   "cell_type": "code",
   "execution_count": null,
   "metadata": {},
   "outputs": [
    {
     "name": "stdout",
     "output_type": "stream",
     "text": [
      "dim: 2\n",
      "vert: 1296\n",
      "simp: 362798136\n"
     ]
    }
   ],
   "source": [
    "st_1_2d_dim = Rips_simplex_tree_1_2d.dimension()\n",
    "st_1_2d_vert = Rips_simplex_tree_1_2d.num_vertices()\n",
    "st_1_2d_simp = Rips_simplex_tree_1_2d.num_simplices()\n",
    "\n",
    "print(\"dim: \" + str(st_1_2d_dim) + \"\\nvert: \" + str(st_1_2d_vert) + \"\\nsimp: \" + str(st_1_2d_simp))"
   ]
  }
 ],
 "metadata": {
  "kernelspec": {
   "display_name": "afml",
   "language": "python",
   "name": "python3"
  },
  "language_info": {
   "codemirror_mode": {
    "name": "ipython",
    "version": 3
   },
   "file_extension": ".py",
   "mimetype": "text/x-python",
   "name": "python",
   "nbconvert_exporter": "python",
   "pygments_lexer": "ipython3",
   "version": "3.11.4"
  },
  "orig_nbformat": 4
 },
 "nbformat": 4,
 "nbformat_minor": 2
}
